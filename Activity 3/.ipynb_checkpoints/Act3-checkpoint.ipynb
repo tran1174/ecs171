{
 "cells": [
  {
   "cell_type": "code",
   "execution_count": 30,
   "id": "493f6f97",
   "metadata": {},
   "outputs": [],
   "source": [
    "import pandas as pd\n",
    "import numpy as np"
   ]
  },
  {
   "cell_type": "code",
   "execution_count": 109,
   "id": "e41b0eaf",
   "metadata": {},
   "outputs": [],
   "source": [
    "data = pd.read_csv(\"./slide10_dataset.csv\")"
   ]
  },
  {
   "cell_type": "code",
   "execution_count": 116,
   "id": "933197b1",
   "metadata": {},
   "outputs": [
    {
     "data": {
      "text/html": [
       "<div>\n",
       "<style scoped>\n",
       "    .dataframe tbody tr th:only-of-type {\n",
       "        vertical-align: middle;\n",
       "    }\n",
       "\n",
       "    .dataframe tbody tr th {\n",
       "        vertical-align: top;\n",
       "    }\n",
       "\n",
       "    .dataframe thead th {\n",
       "        text-align: right;\n",
       "    }\n",
       "</style>\n",
       "<table border=\"1\" class=\"dataframe\">\n",
       "  <thead>\n",
       "    <tr style=\"text-align: right;\">\n",
       "      <th></th>\n",
       "      <th>Temperature</th>\n",
       "      <th>Outlook</th>\n",
       "      <th>Humidity</th>\n",
       "      <th>Windy</th>\n",
       "      <th>Played</th>\n",
       "    </tr>\n",
       "  </thead>\n",
       "  <tbody>\n",
       "    <tr>\n",
       "      <th>0</th>\n",
       "      <td>Mild</td>\n",
       "      <td>Sunny</td>\n",
       "      <td>80</td>\n",
       "      <td>0</td>\n",
       "      <td>1</td>\n",
       "    </tr>\n",
       "    <tr>\n",
       "      <th>1</th>\n",
       "      <td>Hot</td>\n",
       "      <td>Sunny</td>\n",
       "      <td>75</td>\n",
       "      <td>1</td>\n",
       "      <td>0</td>\n",
       "    </tr>\n",
       "    <tr>\n",
       "      <th>2</th>\n",
       "      <td>Hot</td>\n",
       "      <td>Overcast</td>\n",
       "      <td>77</td>\n",
       "      <td>0</td>\n",
       "      <td>1</td>\n",
       "    </tr>\n",
       "    <tr>\n",
       "      <th>3</th>\n",
       "      <td>Cool</td>\n",
       "      <td>Rain</td>\n",
       "      <td>70</td>\n",
       "      <td>0</td>\n",
       "      <td>1</td>\n",
       "    </tr>\n",
       "    <tr>\n",
       "      <th>4</th>\n",
       "      <td>Cool</td>\n",
       "      <td>Overcast</td>\n",
       "      <td>72</td>\n",
       "      <td>1</td>\n",
       "      <td>1</td>\n",
       "    </tr>\n",
       "    <tr>\n",
       "      <th>5</th>\n",
       "      <td>Mild</td>\n",
       "      <td>Sunny</td>\n",
       "      <td>77</td>\n",
       "      <td>0</td>\n",
       "      <td>0</td>\n",
       "    </tr>\n",
       "    <tr>\n",
       "      <th>6</th>\n",
       "      <td>Cool</td>\n",
       "      <td>Sunny</td>\n",
       "      <td>70</td>\n",
       "      <td>0</td>\n",
       "      <td>1</td>\n",
       "    </tr>\n",
       "    <tr>\n",
       "      <th>7</th>\n",
       "      <td>Mild</td>\n",
       "      <td>Rain</td>\n",
       "      <td>69</td>\n",
       "      <td>0</td>\n",
       "      <td>1</td>\n",
       "    </tr>\n",
       "    <tr>\n",
       "      <th>8</th>\n",
       "      <td>Mild</td>\n",
       "      <td>Sunny</td>\n",
       "      <td>65</td>\n",
       "      <td>1</td>\n",
       "      <td>1</td>\n",
       "    </tr>\n",
       "    <tr>\n",
       "      <th>9</th>\n",
       "      <td>Mild</td>\n",
       "      <td>Overcast</td>\n",
       "      <td>77</td>\n",
       "      <td>1</td>\n",
       "      <td>1</td>\n",
       "    </tr>\n",
       "    <tr>\n",
       "      <th>10</th>\n",
       "      <td>Hot</td>\n",
       "      <td>Overcast</td>\n",
       "      <td>74</td>\n",
       "      <td>0</td>\n",
       "      <td>1</td>\n",
       "    </tr>\n",
       "    <tr>\n",
       "      <th>11</th>\n",
       "      <td>Mild</td>\n",
       "      <td>Rain</td>\n",
       "      <td>77</td>\n",
       "      <td>1</td>\n",
       "      <td>0</td>\n",
       "    </tr>\n",
       "    <tr>\n",
       "      <th>12</th>\n",
       "      <td>Cool</td>\n",
       "      <td>Rain</td>\n",
       "      <td>73</td>\n",
       "      <td>1</td>\n",
       "      <td>0</td>\n",
       "    </tr>\n",
       "    <tr>\n",
       "      <th>13</th>\n",
       "      <td>Mild</td>\n",
       "      <td>Rain</td>\n",
       "      <td>78</td>\n",
       "      <td>0</td>\n",
       "      <td>1</td>\n",
       "    </tr>\n",
       "  </tbody>\n",
       "</table>\n",
       "</div>"
      ],
      "text/plain": [
       "   Temperature   Outlook  Humidity  Windy  Played\n",
       "0         Mild     Sunny        80      0       1\n",
       "1          Hot     Sunny        75      1       0\n",
       "2          Hot  Overcast        77      0       1\n",
       "3         Cool      Rain        70      0       1\n",
       "4         Cool  Overcast        72      1       1\n",
       "5         Mild     Sunny        77      0       0\n",
       "6         Cool     Sunny        70      0       1\n",
       "7         Mild      Rain        69      0       1\n",
       "8         Mild     Sunny        65      1       1\n",
       "9         Mild  Overcast        77      1       1\n",
       "10         Hot  Overcast        74      0       1\n",
       "11        Mild      Rain        77      1       0\n",
       "12        Cool      Rain        73      1       0\n",
       "13        Mild      Rain        78      0       1"
      ]
     },
     "execution_count": 116,
     "metadata": {},
     "output_type": "execute_result"
    }
   ],
   "source": [
    "data"
   ]
  },
  {
   "cell_type": "code",
   "execution_count": 111,
   "id": "23952998",
   "metadata": {},
   "outputs": [],
   "source": [
    "test = data.Temperature"
   ]
  },
  {
   "cell_type": "code",
   "execution_count": 70,
   "id": "68e6bd36",
   "metadata": {},
   "outputs": [],
   "source": [
    "def calcEntropy(a,b):\n",
    "    if a == 0 or b == 0:\n",
    "        return 0\n",
    "    return (-a*np.log2(a))-(b*np.log2(b))"
   ]
  },
  {
   "cell_type": "code",
   "execution_count": 126,
   "id": "d596cc1d",
   "metadata": {},
   "outputs": [],
   "source": [
    "def findEntropyIG(c1, c2, df):\n",
    "    col1 = df[c1]\n",
    "    col2 = df[c2]\n",
    "    table = pd.DataFrame(index = col2.unique(), columns= col1.unique())\n",
    "    table['Total'] = np.nan\n",
    "    for i in table.index:\n",
    "        for j in table.columns.drop('Total'):\n",
    "            count = len(df[(df[c2] == i) & (df[c1] == j)])   \n",
    "            table.loc[i,j] = count\n",
    "    #get total\n",
    "    for i in range(len(table.index)):\n",
    "        table.iloc[i,-1] = int(sum(table.drop(columns='Total').iloc[i]))\n",
    "        \n",
    "    entropy, probability = [], []\n",
    "    #calculate entropies and probabilities\n",
    "    for i in table.index:\n",
    "        numerators = []\n",
    "        for j in table.drop(columns='Total').columns:\n",
    "            numerators.append(table.loc[i,j])\n",
    "        temp = 0\n",
    "        total = table.loc[i,'Total']\n",
    "        probability.append(total/df.shape[0])\n",
    "        entropy.append(calcEntropy(numerators[0]/total, numerators[1]/total))\n",
    "    \n",
    "    final_calc = sum([entropy[i] * probability[i] for i in range(len(entropy))])\n",
    "    \n",
    "    c1_count = [df[c1].value_counts()[i] for i in df[c1].unique()]\n",
    "    \n",
    "    IG = calcEntropy(c1_count[0]/df.shape[0],c1_count[1]/df.shape[0]) - final_calc\n",
    "\n",
    "    print(f'E({c1},{c2}) = {final_calc}\\nIG = {IG}')"
   ]
  },
  {
   "cell_type": "code",
   "execution_count": 127,
   "id": "9b4f80cb",
   "metadata": {},
   "outputs": [],
   "source": [
    "tempHum = data['Humidity'].map(str)\n",
    "\n",
    "for i in range(len(tempHum)):\n",
    "    if int(tempHum[i]) >= 75:\n",
    "        tempHum[i] = '>=75'\n",
    "    else:\n",
    "        tempHum[i] = '<75'"
   ]
  },
  {
   "cell_type": "code",
   "execution_count": 128,
   "id": "5ef561e8",
   "metadata": {},
   "outputs": [],
   "source": [
    "data_hum = data.drop(columns='Humidity')\n",
    "data_hum['Humidity'] = tempHum"
   ]
  },
  {
   "cell_type": "code",
   "execution_count": 129,
   "id": "c865c29b",
   "metadata": {},
   "outputs": [
    {
     "data": {
      "text/html": [
       "<div>\n",
       "<style scoped>\n",
       "    .dataframe tbody tr th:only-of-type {\n",
       "        vertical-align: middle;\n",
       "    }\n",
       "\n",
       "    .dataframe tbody tr th {\n",
       "        vertical-align: top;\n",
       "    }\n",
       "\n",
       "    .dataframe thead th {\n",
       "        text-align: right;\n",
       "    }\n",
       "</style>\n",
       "<table border=\"1\" class=\"dataframe\">\n",
       "  <thead>\n",
       "    <tr style=\"text-align: right;\">\n",
       "      <th></th>\n",
       "      <th>Temperature</th>\n",
       "      <th>Outlook</th>\n",
       "      <th>Windy</th>\n",
       "      <th>Played</th>\n",
       "      <th>Humidity</th>\n",
       "    </tr>\n",
       "  </thead>\n",
       "  <tbody>\n",
       "    <tr>\n",
       "      <th>0</th>\n",
       "      <td>Mild</td>\n",
       "      <td>Sunny</td>\n",
       "      <td>0</td>\n",
       "      <td>1</td>\n",
       "      <td>&gt;=75</td>\n",
       "    </tr>\n",
       "    <tr>\n",
       "      <th>1</th>\n",
       "      <td>Hot</td>\n",
       "      <td>Sunny</td>\n",
       "      <td>1</td>\n",
       "      <td>0</td>\n",
       "      <td>&gt;=75</td>\n",
       "    </tr>\n",
       "    <tr>\n",
       "      <th>2</th>\n",
       "      <td>Hot</td>\n",
       "      <td>Overcast</td>\n",
       "      <td>0</td>\n",
       "      <td>1</td>\n",
       "      <td>&gt;=75</td>\n",
       "    </tr>\n",
       "    <tr>\n",
       "      <th>3</th>\n",
       "      <td>Cool</td>\n",
       "      <td>Rain</td>\n",
       "      <td>0</td>\n",
       "      <td>1</td>\n",
       "      <td>&lt;75</td>\n",
       "    </tr>\n",
       "    <tr>\n",
       "      <th>4</th>\n",
       "      <td>Cool</td>\n",
       "      <td>Overcast</td>\n",
       "      <td>1</td>\n",
       "      <td>1</td>\n",
       "      <td>&lt;75</td>\n",
       "    </tr>\n",
       "    <tr>\n",
       "      <th>5</th>\n",
       "      <td>Mild</td>\n",
       "      <td>Sunny</td>\n",
       "      <td>0</td>\n",
       "      <td>0</td>\n",
       "      <td>&gt;=75</td>\n",
       "    </tr>\n",
       "    <tr>\n",
       "      <th>6</th>\n",
       "      <td>Cool</td>\n",
       "      <td>Sunny</td>\n",
       "      <td>0</td>\n",
       "      <td>1</td>\n",
       "      <td>&lt;75</td>\n",
       "    </tr>\n",
       "    <tr>\n",
       "      <th>7</th>\n",
       "      <td>Mild</td>\n",
       "      <td>Rain</td>\n",
       "      <td>0</td>\n",
       "      <td>1</td>\n",
       "      <td>&lt;75</td>\n",
       "    </tr>\n",
       "    <tr>\n",
       "      <th>8</th>\n",
       "      <td>Mild</td>\n",
       "      <td>Sunny</td>\n",
       "      <td>1</td>\n",
       "      <td>1</td>\n",
       "      <td>&lt;75</td>\n",
       "    </tr>\n",
       "    <tr>\n",
       "      <th>9</th>\n",
       "      <td>Mild</td>\n",
       "      <td>Overcast</td>\n",
       "      <td>1</td>\n",
       "      <td>1</td>\n",
       "      <td>&gt;=75</td>\n",
       "    </tr>\n",
       "    <tr>\n",
       "      <th>10</th>\n",
       "      <td>Hot</td>\n",
       "      <td>Overcast</td>\n",
       "      <td>0</td>\n",
       "      <td>1</td>\n",
       "      <td>&lt;75</td>\n",
       "    </tr>\n",
       "    <tr>\n",
       "      <th>11</th>\n",
       "      <td>Mild</td>\n",
       "      <td>Rain</td>\n",
       "      <td>1</td>\n",
       "      <td>0</td>\n",
       "      <td>&gt;=75</td>\n",
       "    </tr>\n",
       "    <tr>\n",
       "      <th>12</th>\n",
       "      <td>Cool</td>\n",
       "      <td>Rain</td>\n",
       "      <td>1</td>\n",
       "      <td>0</td>\n",
       "      <td>&lt;75</td>\n",
       "    </tr>\n",
       "    <tr>\n",
       "      <th>13</th>\n",
       "      <td>Mild</td>\n",
       "      <td>Rain</td>\n",
       "      <td>0</td>\n",
       "      <td>1</td>\n",
       "      <td>&gt;=75</td>\n",
       "    </tr>\n",
       "  </tbody>\n",
       "</table>\n",
       "</div>"
      ],
      "text/plain": [
       "   Temperature   Outlook  Windy  Played Humidity\n",
       "0         Mild     Sunny      0       1     >=75\n",
       "1          Hot     Sunny      1       0     >=75\n",
       "2          Hot  Overcast      0       1     >=75\n",
       "3         Cool      Rain      0       1      <75\n",
       "4         Cool  Overcast      1       1      <75\n",
       "5         Mild     Sunny      0       0     >=75\n",
       "6         Cool     Sunny      0       1      <75\n",
       "7         Mild      Rain      0       1      <75\n",
       "8         Mild     Sunny      1       1      <75\n",
       "9         Mild  Overcast      1       1     >=75\n",
       "10         Hot  Overcast      0       1      <75\n",
       "11        Mild      Rain      1       0     >=75\n",
       "12        Cool      Rain      1       0      <75\n",
       "13        Mild      Rain      0       1     >=75"
      ]
     },
     "execution_count": 129,
     "metadata": {},
     "output_type": "execute_result"
    }
   ],
   "source": [
    "data_hum"
   ]
  },
  {
   "cell_type": "code",
   "execution_count": 130,
   "id": "f1eb7835",
   "metadata": {},
   "outputs": [
    {
     "name": "stdout",
     "output_type": "stream",
     "text": [
      "E(Played,Outlook) = 0.6935361388961918\n",
      "IG = 0.16958442967043919\n"
     ]
    }
   ],
   "source": [
    "findEntropyIG(\"Played\", \"Outlook\", data)"
   ]
  },
  {
   "cell_type": "code",
   "execution_count": 131,
   "id": "80e989f9",
   "metadata": {
    "scrolled": true
   },
   "outputs": [
    {
     "name": "stdout",
     "output_type": "stream",
     "text": [
      "E(Played,Windy) = 0.7391796818283407\n",
      "IG = 0.12394088673829029\n"
     ]
    }
   ],
   "source": [
    "findEntropyIG(\"Played\", \"Windy\", data)"
   ]
  },
  {
   "cell_type": "code",
   "execution_count": 132,
   "id": "664261ee",
   "metadata": {},
   "outputs": [
    {
     "name": "stdout",
     "output_type": "stream",
     "text": [
      "E(Played,Temperature) = 0.8601317128547441\n",
      "IG = 0.0029888557118868953\n"
     ]
    }
   ],
   "source": [
    "findEntropyIG(\"Played\", \"Temperature\", data)"
   ]
  },
  {
   "cell_type": "code",
   "execution_count": 133,
   "id": "0c62bae9",
   "metadata": {
    "scrolled": true
   },
   "outputs": [
    {
     "name": "stdout",
     "output_type": "stream",
     "text": [
      "E(Played,Humidity) = 0.7884504573082896\n",
      "IG = 0.07467011125834144\n"
     ]
    }
   ],
   "source": [
    "findEntropyIG(\"Played\", \"Humidity\", data_hum)"
   ]
  },
  {
   "cell_type": "markdown",
   "id": "3bce85e3",
   "metadata": {},
   "source": [
    "Outlook as the most information gain at the beginning. Therefore we will use Outlook as the root node. Notice that when the Outlook is 'Overcast,' they will always play with my feelings. Thus we can simply end at yes in that case. We will now continue with each attribute of Outlook."
   ]
  },
  {
   "cell_type": "code",
   "execution_count": 148,
   "id": "230b2c04",
   "metadata": {},
   "outputs": [],
   "source": [
    "sunny_df = data_hum[data_hum.Outlook == 'Sunny']"
   ]
  },
  {
   "cell_type": "code",
   "execution_count": 149,
   "id": "c70e1106",
   "metadata": {},
   "outputs": [
    {
     "data": {
      "text/html": [
       "<div>\n",
       "<style scoped>\n",
       "    .dataframe tbody tr th:only-of-type {\n",
       "        vertical-align: middle;\n",
       "    }\n",
       "\n",
       "    .dataframe tbody tr th {\n",
       "        vertical-align: top;\n",
       "    }\n",
       "\n",
       "    .dataframe thead th {\n",
       "        text-align: right;\n",
       "    }\n",
       "</style>\n",
       "<table border=\"1\" class=\"dataframe\">\n",
       "  <thead>\n",
       "    <tr style=\"text-align: right;\">\n",
       "      <th></th>\n",
       "      <th>Temperature</th>\n",
       "      <th>Outlook</th>\n",
       "      <th>Windy</th>\n",
       "      <th>Played</th>\n",
       "      <th>Humidity</th>\n",
       "    </tr>\n",
       "  </thead>\n",
       "  <tbody>\n",
       "    <tr>\n",
       "      <th>0</th>\n",
       "      <td>Mild</td>\n",
       "      <td>Sunny</td>\n",
       "      <td>0</td>\n",
       "      <td>1</td>\n",
       "      <td>&gt;=75</td>\n",
       "    </tr>\n",
       "    <tr>\n",
       "      <th>1</th>\n",
       "      <td>Hot</td>\n",
       "      <td>Sunny</td>\n",
       "      <td>1</td>\n",
       "      <td>0</td>\n",
       "      <td>&gt;=75</td>\n",
       "    </tr>\n",
       "    <tr>\n",
       "      <th>5</th>\n",
       "      <td>Mild</td>\n",
       "      <td>Sunny</td>\n",
       "      <td>0</td>\n",
       "      <td>0</td>\n",
       "      <td>&gt;=75</td>\n",
       "    </tr>\n",
       "    <tr>\n",
       "      <th>6</th>\n",
       "      <td>Cool</td>\n",
       "      <td>Sunny</td>\n",
       "      <td>0</td>\n",
       "      <td>1</td>\n",
       "      <td>&lt;75</td>\n",
       "    </tr>\n",
       "    <tr>\n",
       "      <th>8</th>\n",
       "      <td>Mild</td>\n",
       "      <td>Sunny</td>\n",
       "      <td>1</td>\n",
       "      <td>1</td>\n",
       "      <td>&lt;75</td>\n",
       "    </tr>\n",
       "  </tbody>\n",
       "</table>\n",
       "</div>"
      ],
      "text/plain": [
       "  Temperature Outlook  Windy  Played Humidity\n",
       "0        Mild   Sunny      0       1     >=75\n",
       "1         Hot   Sunny      1       0     >=75\n",
       "5        Mild   Sunny      0       0     >=75\n",
       "6        Cool   Sunny      0       1      <75\n",
       "8        Mild   Sunny      1       1      <75"
      ]
     },
     "execution_count": 149,
     "metadata": {},
     "output_type": "execute_result"
    }
   ],
   "source": [
    "sunny_df"
   ]
  },
  {
   "cell_type": "code",
   "execution_count": 150,
   "id": "e4089596",
   "metadata": {},
   "outputs": [
    {
     "name": "stdout",
     "output_type": "stream",
     "text": [
      "E(Played,Temperature) = 0.5509775004326937\n",
      "IG = 0.4199730940219749\n"
     ]
    }
   ],
   "source": [
    "findEntropyIG(\"Played\", \"Temperature\", sunny_df)"
   ]
  },
  {
   "cell_type": "code",
   "execution_count": 151,
   "id": "b545ab2c",
   "metadata": {},
   "outputs": [
    {
     "name": "stdout",
     "output_type": "stream",
     "text": [
      "E(Played,Windy) = 0.9509775004326937\n",
      "IG = 0.01997309402197489\n"
     ]
    }
   ],
   "source": [
    "findEntropyIG(\"Played\", \"Windy\", sunny_df)"
   ]
  },
  {
   "cell_type": "code",
   "execution_count": 152,
   "id": "61a8e131",
   "metadata": {},
   "outputs": [
    {
     "name": "stdout",
     "output_type": "stream",
     "text": [
      "E(Played,Humidity) = 0.5509775004326937\n",
      "IG = 0.4199730940219749\n"
     ]
    }
   ],
   "source": [
    "findEntropyIG(\"Played\", \"Humidity\", sunny_df)"
   ]
  },
  {
   "cell_type": "markdown",
   "id": "02a6f7b4",
   "metadata": {},
   "source": [
    "Since I have the same value for Humidity and Temperature under Sunny conditions, I'm going to use Humidity because that's what the tree in the slides ended up choosing. :) When it is not humid, we have 100% play rate. That is not the case when it is humid."
   ]
  },
  {
   "cell_type": "code",
   "execution_count": 158,
   "id": "41fb58fe",
   "metadata": {},
   "outputs": [],
   "source": [
    "not_humid_df = sunny_df[sunny_df.Humidity == '>=75']"
   ]
  },
  {
   "cell_type": "code",
   "execution_count": 159,
   "id": "e2631852",
   "metadata": {},
   "outputs": [
    {
     "data": {
      "text/html": [
       "<div>\n",
       "<style scoped>\n",
       "    .dataframe tbody tr th:only-of-type {\n",
       "        vertical-align: middle;\n",
       "    }\n",
       "\n",
       "    .dataframe tbody tr th {\n",
       "        vertical-align: top;\n",
       "    }\n",
       "\n",
       "    .dataframe thead th {\n",
       "        text-align: right;\n",
       "    }\n",
       "</style>\n",
       "<table border=\"1\" class=\"dataframe\">\n",
       "  <thead>\n",
       "    <tr style=\"text-align: right;\">\n",
       "      <th></th>\n",
       "      <th>Temperature</th>\n",
       "      <th>Outlook</th>\n",
       "      <th>Windy</th>\n",
       "      <th>Played</th>\n",
       "      <th>Humidity</th>\n",
       "    </tr>\n",
       "  </thead>\n",
       "  <tbody>\n",
       "    <tr>\n",
       "      <th>0</th>\n",
       "      <td>Mild</td>\n",
       "      <td>Sunny</td>\n",
       "      <td>0</td>\n",
       "      <td>1</td>\n",
       "      <td>&gt;=75</td>\n",
       "    </tr>\n",
       "    <tr>\n",
       "      <th>1</th>\n",
       "      <td>Hot</td>\n",
       "      <td>Sunny</td>\n",
       "      <td>1</td>\n",
       "      <td>0</td>\n",
       "      <td>&gt;=75</td>\n",
       "    </tr>\n",
       "    <tr>\n",
       "      <th>5</th>\n",
       "      <td>Mild</td>\n",
       "      <td>Sunny</td>\n",
       "      <td>0</td>\n",
       "      <td>0</td>\n",
       "      <td>&gt;=75</td>\n",
       "    </tr>\n",
       "  </tbody>\n",
       "</table>\n",
       "</div>"
      ],
      "text/plain": [
       "  Temperature Outlook  Windy  Played Humidity\n",
       "0        Mild   Sunny      0       1     >=75\n",
       "1         Hot   Sunny      1       0     >=75\n",
       "5        Mild   Sunny      0       0     >=75"
      ]
     },
     "execution_count": 159,
     "metadata": {},
     "output_type": "execute_result"
    }
   ],
   "source": [
    "not_humid_df"
   ]
  },
  {
   "cell_type": "code",
   "execution_count": 161,
   "id": "3c67326f",
   "metadata": {},
   "outputs": [
    {
     "name": "stdout",
     "output_type": "stream",
     "text": [
      "E(Played,Temperature) = 0.6666666666666666\n",
      "IG = 0.2516291673878229\n"
     ]
    }
   ],
   "source": [
    "findEntropyIG(\"Played\", \"Temperature\", not_humid_df)"
   ]
  },
  {
   "cell_type": "code",
   "execution_count": 162,
   "id": "86345ea5",
   "metadata": {},
   "outputs": [
    {
     "name": "stdout",
     "output_type": "stream",
     "text": [
      "E(Played,Windy) = 0.6666666666666666\n",
      "IG = 0.2516291673878229\n"
     ]
    }
   ],
   "source": [
    "findEntropyIG(\"Played\", \"Windy\", not_humid_df)"
   ]
  },
  {
   "cell_type": "markdown",
   "id": "c6d1e8dc",
   "metadata": {},
   "source": [
    "As you can see, our two choices provide the same information gain. Since we're going to use windy on the other side, let's just temperature here so we can be fair to all information. #InformationEquality\n",
    "When it is Hot, we will not play, but when the temperature is Mild then we dunno. Just like how I dont know how many other guys were in my ex's dms :("
   ]
  },
  {
   "cell_type": "markdown",
   "id": "14d24a08",
   "metadata": {},
   "source": [
    "Let us now calculate the IG under rainy conditions."
   ]
  },
  {
   "cell_type": "code",
   "execution_count": 153,
   "id": "4d993b7a",
   "metadata": {},
   "outputs": [],
   "source": [
    "rain_df = data_hum[data_hum.Outlook == 'Rain']"
   ]
  },
  {
   "cell_type": "code",
   "execution_count": 154,
   "id": "020940af",
   "metadata": {},
   "outputs": [
    {
     "data": {
      "text/html": [
       "<div>\n",
       "<style scoped>\n",
       "    .dataframe tbody tr th:only-of-type {\n",
       "        vertical-align: middle;\n",
       "    }\n",
       "\n",
       "    .dataframe tbody tr th {\n",
       "        vertical-align: top;\n",
       "    }\n",
       "\n",
       "    .dataframe thead th {\n",
       "        text-align: right;\n",
       "    }\n",
       "</style>\n",
       "<table border=\"1\" class=\"dataframe\">\n",
       "  <thead>\n",
       "    <tr style=\"text-align: right;\">\n",
       "      <th></th>\n",
       "      <th>Temperature</th>\n",
       "      <th>Outlook</th>\n",
       "      <th>Windy</th>\n",
       "      <th>Played</th>\n",
       "      <th>Humidity</th>\n",
       "    </tr>\n",
       "  </thead>\n",
       "  <tbody>\n",
       "    <tr>\n",
       "      <th>3</th>\n",
       "      <td>Cool</td>\n",
       "      <td>Rain</td>\n",
       "      <td>0</td>\n",
       "      <td>1</td>\n",
       "      <td>&lt;75</td>\n",
       "    </tr>\n",
       "    <tr>\n",
       "      <th>7</th>\n",
       "      <td>Mild</td>\n",
       "      <td>Rain</td>\n",
       "      <td>0</td>\n",
       "      <td>1</td>\n",
       "      <td>&lt;75</td>\n",
       "    </tr>\n",
       "    <tr>\n",
       "      <th>11</th>\n",
       "      <td>Mild</td>\n",
       "      <td>Rain</td>\n",
       "      <td>1</td>\n",
       "      <td>0</td>\n",
       "      <td>&gt;=75</td>\n",
       "    </tr>\n",
       "    <tr>\n",
       "      <th>12</th>\n",
       "      <td>Cool</td>\n",
       "      <td>Rain</td>\n",
       "      <td>1</td>\n",
       "      <td>0</td>\n",
       "      <td>&lt;75</td>\n",
       "    </tr>\n",
       "    <tr>\n",
       "      <th>13</th>\n",
       "      <td>Mild</td>\n",
       "      <td>Rain</td>\n",
       "      <td>0</td>\n",
       "      <td>1</td>\n",
       "      <td>&gt;=75</td>\n",
       "    </tr>\n",
       "  </tbody>\n",
       "</table>\n",
       "</div>"
      ],
      "text/plain": [
       "   Temperature Outlook  Windy  Played Humidity\n",
       "3         Cool    Rain      0       1      <75\n",
       "7         Mild    Rain      0       1      <75\n",
       "11        Mild    Rain      1       0     >=75\n",
       "12        Cool    Rain      1       0      <75\n",
       "13        Mild    Rain      0       1     >=75"
      ]
     },
     "execution_count": 154,
     "metadata": {},
     "output_type": "execute_result"
    }
   ],
   "source": [
    "rain_df"
   ]
  },
  {
   "cell_type": "code",
   "execution_count": 155,
   "id": "4af1eb4f",
   "metadata": {},
   "outputs": [
    {
     "name": "stdout",
     "output_type": "stream",
     "text": [
      "E(Played,Temperature) = 0.9509775004326937\n",
      "IG = 0.01997309402197489\n"
     ]
    }
   ],
   "source": [
    "findEntropyIG(\"Played\", \"Temperature\", rain_df)"
   ]
  },
  {
   "cell_type": "code",
   "execution_count": 156,
   "id": "da0b84b0",
   "metadata": {},
   "outputs": [
    {
     "name": "stdout",
     "output_type": "stream",
     "text": [
      "E(Played,Windy) = 0.0\n",
      "IG = 0.9709505944546686\n"
     ]
    }
   ],
   "source": [
    "findEntropyIG(\"Played\", \"Windy\", rain_df)"
   ]
  },
  {
   "cell_type": "code",
   "execution_count": 157,
   "id": "a1c4f832",
   "metadata": {},
   "outputs": [
    {
     "name": "stdout",
     "output_type": "stream",
     "text": [
      "E(Played,Humidity) = 0.9509775004326937\n",
      "IG = 0.01997309402197489\n"
     ]
    }
   ],
   "source": [
    "findEntropyIG(\"Played\", \"Humidity\", rain_df)"
   ]
  },
  {
   "cell_type": "markdown",
   "id": "74ba3053",
   "metadata": {},
   "source": [
    "Under rain, we will check for Windy conditions. We now notice that in the rain_df, when it is windy, they don't play with my feelings, but when it is not windy, they do play with my feelings :("
   ]
  },
  {
   "cell_type": "markdown",
   "id": "d3b5e3f2",
   "metadata": {},
   "source": [
    "Thus we end at our final tree. Which is exactly the same as the tree in the slides except this time we calculate humidity with '>=75 and <75' rather than '<=75 and >75.' Also with the addition of temperature as the lowest level."
   ]
  },
  {
   "attachments": {
    "tree-2.PNG": {
     "image/png": "[encoded data removed]"
    }
   },
   "cell_type": "markdown",
   "id": "aae1cbfe",
   "metadata": {},
   "source": [
    "![tree-2.PNG](attachment:tree-2.PNG)"
   ]
  },
  {
   "cell_type": "markdown",
   "id": "aefd49e6",
   "metadata": {},
   "source": [
    "Please don't mark me down for the analogies. I was so braindead from trying to figure out how to do the children of the root node. "
   ]
  }
 ],
 "metadata": {
  "kernelspec": {
   "display_name": "Python 3 (ipykernel)",
   "language": "python",
   "name": "python3"
  },
  "language_info": {
   "codemirror_mode": {
    "name": "ipython",
    "version": 3
   },
   "file_extension": ".py",
   "mimetype": "text/x-python",
   "name": "python",
   "nbconvert_exporter": "python",
   "pygments_lexer": "ipython3",
   "version": "3.8.8"
  }
 },
 "nbformat": 4,
 "nbformat_minor": 5
}
