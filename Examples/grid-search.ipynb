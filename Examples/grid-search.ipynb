{
 "cells": [
  {
   "cell_type": "code",
   "execution_count": 12,
   "metadata": {},
   "outputs": [
    {
     "name": "stdout",
     "output_type": "stream",
     "text": [
      "[-0.41978194  0.28482986 -1.2879095  -0.27259857 -0.14421743  0.41367189\n",
      " -0.12001342  0.1402136  -0.98284286 -0.66660821 -1.45900038  0.44105193\n",
      " -1.0755623 ]\n"
     ]
    }
   ],
   "source": [
    "from sklearn.preprocessing import StandardScaler\n",
    "from sklearn.datasets import load_boston\n",
    "boston = load_boston()\n",
    "# Preprocess the data by scaling the features\n",
    "scaler = StandardScaler()\n",
    "X = scaler.fit_transform(boston.data)\n",
    "y = boston.target\n",
    "\n",
    "# Split the data into training and testing sets\n",
    "train_size = int(0.8 * len(X))\n",
    "train_data, train_labels = X[:train_size], y[:train_size]\n",
    "test_data, test_labels = X[train_size:], y[train_size:]\n",
    "\n",
    "print(train_data[0])"
   ]
  },
  {
   "cell_type": "code",
   "execution_count": 21,
   "metadata": {},
   "outputs": [
    {
     "name": "stdout",
     "output_type": "stream",
     "text": [
      "Best parameters:  {'dropout_rate': 0.2, 'learning_rate': 0.001, 'neurons_layer1': 64, 'neurons_layer2': 32, 'num_layers': 2}\n",
      "Best accuracy: 1.00%\n"
     ]
    }
   ],
   "source": [
    "from tensorflow.keras.models import Sequential\n",
    "from tensorflow.keras.layers import Dense, Dropout\n",
    "# from tensorflow.keras.optimizers import Adam\n",
    "from sklearn.model_selection import GridSearchCV\n",
    "from keras.wrappers.scikit_learn import KerasClassifier\n",
    "from tensorflow.keras.optimizers import SGD\n",
    "\n",
    "# Define the neural network architecture\n",
    "def create_model(num_layers=2, learning_rate=0.001, dropout_rate=0.2, neurons_layer1=64, neurons_layer2=32):\n",
    "    model = Sequential()\n",
    "    model.add(Dense(neurons_layer1, activation='relu', input_shape=(X.shape[1],)))\n",
    "    model.add(Dropout(dropout_rate))\n",
    "    for i in range(num_layers - 1):\n",
    "        model.add(Dense(neurons_layer2, activation='relu'))\n",
    "        model.add(Dropout(dropout_rate))\n",
    "    model.add(Dense(1, activation='sigmoid'))\n",
    "\n",
    "    optimizer = SGD()\n",
    "    model.compile(optimizer=optimizer, loss='mse', metrics=['accuracy'])\n",
    "    return model\n",
    "\n",
    "# Define the hyperparameters to tune using grid search\n",
    "param_grid = {\n",
    "    'learning_rate': [0.001, 0.01],\n",
    "    'dropout_rate': [0.2, 0.3],\n",
    "    'num_layers': [2, 3],\n",
    "    'neurons_layer1': [64, 128],\n",
    "    'neurons_layer2': [32, 64]\n",
    "}\n",
    "\n",
    "# Create the grid search object\n",
    "model = KerasClassifier(build_fn=create_model, epochs=50, batch_size=32, verbose=0)\n",
    "# 3 is the number of folds in k-fold cross validation. one fold for validation and k-1 folds used for training\n",
    "# for each combination of parameters, the model is trained on the training data and tested o the validation data.\n",
    "# the average performance of the model (with the selected combination of parameters) over k-folds is used as the estimate for the model's perfromance for tha particular combination of hyperparameters. \n",
    "\n",
    "grid = GridSearchCV(estimator=model, param_grid=param_grid, n_jobs=-1, cv=3)\n",
    "\n",
    "# Train the model with grid search\n",
    "grid_result = grid.fit(train_data, train_labels)\n",
    "\n",
    "# Print the best hyperparameters and accuracy\n",
    "print(\"Best parameters: \", grid_result.best_params_)\n",
    "print(\"Best accuracy: {:.2f}%\".format(grid_result.best_score_ * 100))\n"
   ]
  }
 ],
 "metadata": {
  "kernelspec": {
   "display_name": "Python 3 (ipykernel)",
   "language": "python",
   "name": "python3"
  },
  "language_info": {
   "codemirror_mode": {
    "name": "ipython",
    "version": 3
   },
   "file_extension": ".py",
   "mimetype": "text/x-python",
   "name": "python",
   "nbconvert_exporter": "python",
   "pygments_lexer": "ipython3",
   "version": "3.8.8"
  }
 },
 "nbformat": 4,
 "nbformat_minor": 2
}
